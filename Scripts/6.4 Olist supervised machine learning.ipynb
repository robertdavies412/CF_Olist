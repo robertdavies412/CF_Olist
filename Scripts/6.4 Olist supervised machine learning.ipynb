{
 "cells": [
  {
   "cell_type": "markdown",
   "id": "79df5ac9",
   "metadata": {},
   "source": [
    "# Table of Contents\n",
    "### 1. Importing libraries and data\n",
    "### 2. Data cleaning\n",
    "### 3. Data prep for regression analysis\n",
    "### 4. Regression analysis\n",
    "### 5. Exporting data"
   ]
  },
  {
   "cell_type": "markdown",
   "id": "5b8f3926",
   "metadata": {},
   "source": [
    "## 1. Importing libraries and data"
   ]
  },
  {
   "cell_type": "code",
   "execution_count": 1,
   "id": "7ce2a69b",
   "metadata": {},
   "outputs": [],
   "source": [
    "import pandas as pd\n",
    "import numpy as np\n",
    "import seaborn as sns\n",
    "import matplotlib\n",
    "import matplotlib.pyplot as plt\n",
    "import os\n",
    "import sklearn\n",
    "from sklearn.model_selection import train_test_split \n",
    "from sklearn.linear_model import LinearRegression\n",
    "from sklearn.metrics import mean_squared_error, r2_score"
   ]
  },
  {
   "cell_type": "code",
   "execution_count": 2,
   "id": "be5d3ee6",
   "metadata": {},
   "outputs": [],
   "source": [
    "# Enable matplotlib visuals to appear in the notebook \n",
    "\n",
    "%matplotlib inline"
   ]
  },
  {
   "cell_type": "code",
   "execution_count": 3,
   "id": "79211831",
   "metadata": {},
   "outputs": [],
   "source": [
    "# Define path\n",
    "\n",
    "path = r'C:\\Users\\radav\\OneDrive\\Documents\\Career Foundry\\Data Analytics\\Immersion\\Achievement 6 Advanced Analytics and Dashboard Design\\Olist'"
   ]
  },
  {
   "cell_type": "code",
   "execution_count": 4,
   "id": "99469944",
   "metadata": {},
   "outputs": [],
   "source": [
    "# Import Olist data\n",
    "\n",
    "df = pd.read_csv(os.path.join(path, '02 Data', 'Prepared Data', 'orders_merged.csv'), index_col=[0])"
   ]
  },
  {
   "cell_type": "code",
   "execution_count": 5,
   "id": "9caa6d65",
   "metadata": {},
   "outputs": [
    {
     "data": {
      "text/html": [
       "<div>\n",
       "<style scoped>\n",
       "    .dataframe tbody tr th:only-of-type {\n",
       "        vertical-align: middle;\n",
       "    }\n",
       "\n",
       "    .dataframe tbody tr th {\n",
       "        vertical-align: top;\n",
       "    }\n",
       "\n",
       "    .dataframe thead th {\n",
       "        text-align: right;\n",
       "    }\n",
       "</style>\n",
       "<table border=\"1\" class=\"dataframe\">\n",
       "  <thead>\n",
       "    <tr style=\"text-align: right;\">\n",
       "      <th></th>\n",
       "      <th>order_id</th>\n",
       "      <th>customer_id</th>\n",
       "      <th>customer_unique_id</th>\n",
       "      <th>order_status</th>\n",
       "      <th>order_purchase_timestamp</th>\n",
       "      <th>order_approved_at</th>\n",
       "      <th>order_delivered_carrier_date</th>\n",
       "      <th>order_delivered_customer_date</th>\n",
       "      <th>order_estimated_delivery_date</th>\n",
       "      <th>review_score</th>\n",
       "      <th>payment_sequential</th>\n",
       "      <th>payment_type</th>\n",
       "      <th>payment_installments</th>\n",
       "      <th>payment_value</th>\n",
       "      <th>act_delivery_days</th>\n",
       "      <th>seller_delivery_days</th>\n",
       "      <th>carrier_delivery_days</th>\n",
       "      <th>est_less_act_delivery_days</th>\n",
       "    </tr>\n",
       "  </thead>\n",
       "  <tbody>\n",
       "    <tr>\n",
       "      <th>0</th>\n",
       "      <td>e481f51cbdc54678b7cc49136f2d6af7</td>\n",
       "      <td>9ef432eb6251297304e76186b10a928d</td>\n",
       "      <td>7c396fd4830fd04220f754e42b4e5bff</td>\n",
       "      <td>delivered</td>\n",
       "      <td>2017-10-02 10:56:33</td>\n",
       "      <td>2017-10-02 11:07:15</td>\n",
       "      <td>2017-10-04 19:55:00</td>\n",
       "      <td>2017-10-10 21:25:13</td>\n",
       "      <td>2017-10-18</td>\n",
       "      <td>4.0</td>\n",
       "      <td>1</td>\n",
       "      <td>credit_card</td>\n",
       "      <td>1</td>\n",
       "      <td>18.12</td>\n",
       "      <td>8.0</td>\n",
       "      <td>2.0</td>\n",
       "      <td>6.0</td>\n",
       "      <td>7.0</td>\n",
       "    </tr>\n",
       "    <tr>\n",
       "      <th>1</th>\n",
       "      <td>e481f51cbdc54678b7cc49136f2d6af7</td>\n",
       "      <td>9ef432eb6251297304e76186b10a928d</td>\n",
       "      <td>7c396fd4830fd04220f754e42b4e5bff</td>\n",
       "      <td>delivered</td>\n",
       "      <td>2017-10-02 10:56:33</td>\n",
       "      <td>2017-10-02 11:07:15</td>\n",
       "      <td>2017-10-04 19:55:00</td>\n",
       "      <td>2017-10-10 21:25:13</td>\n",
       "      <td>2017-10-18</td>\n",
       "      <td>4.0</td>\n",
       "      <td>3</td>\n",
       "      <td>voucher</td>\n",
       "      <td>1</td>\n",
       "      <td>2.00</td>\n",
       "      <td>8.0</td>\n",
       "      <td>2.0</td>\n",
       "      <td>6.0</td>\n",
       "      <td>7.0</td>\n",
       "    </tr>\n",
       "    <tr>\n",
       "      <th>2</th>\n",
       "      <td>e481f51cbdc54678b7cc49136f2d6af7</td>\n",
       "      <td>9ef432eb6251297304e76186b10a928d</td>\n",
       "      <td>7c396fd4830fd04220f754e42b4e5bff</td>\n",
       "      <td>delivered</td>\n",
       "      <td>2017-10-02 10:56:33</td>\n",
       "      <td>2017-10-02 11:07:15</td>\n",
       "      <td>2017-10-04 19:55:00</td>\n",
       "      <td>2017-10-10 21:25:13</td>\n",
       "      <td>2017-10-18</td>\n",
       "      <td>4.0</td>\n",
       "      <td>2</td>\n",
       "      <td>voucher</td>\n",
       "      <td>1</td>\n",
       "      <td>18.59</td>\n",
       "      <td>8.0</td>\n",
       "      <td>2.0</td>\n",
       "      <td>6.0</td>\n",
       "      <td>7.0</td>\n",
       "    </tr>\n",
       "    <tr>\n",
       "      <th>3</th>\n",
       "      <td>53cdb2fc8bc7dce0b6741e2150273451</td>\n",
       "      <td>b0830fb4747a6c6d20dea0b8c802d7ef</td>\n",
       "      <td>af07308b275d755c9edb36a90c618231</td>\n",
       "      <td>delivered</td>\n",
       "      <td>2018-07-24 20:41:37</td>\n",
       "      <td>2018-07-26 03:24:27</td>\n",
       "      <td>2018-07-26 14:31:00</td>\n",
       "      <td>2018-08-07 15:27:45</td>\n",
       "      <td>2018-08-13</td>\n",
       "      <td>4.0</td>\n",
       "      <td>1</td>\n",
       "      <td>boleto</td>\n",
       "      <td>1</td>\n",
       "      <td>141.46</td>\n",
       "      <td>12.0</td>\n",
       "      <td>0.0</td>\n",
       "      <td>12.0</td>\n",
       "      <td>5.0</td>\n",
       "    </tr>\n",
       "    <tr>\n",
       "      <th>4</th>\n",
       "      <td>47770eb9100c2d0c44946d9cf07ec65d</td>\n",
       "      <td>41ce2a54c0b03bf3443c3d931a367089</td>\n",
       "      <td>3a653a41f6f9fc3d2a113cf8398680e8</td>\n",
       "      <td>delivered</td>\n",
       "      <td>2018-08-08 08:38:49</td>\n",
       "      <td>2018-08-08 08:55:23</td>\n",
       "      <td>2018-08-08 13:50:00</td>\n",
       "      <td>2018-08-17 18:06:29</td>\n",
       "      <td>2018-09-04</td>\n",
       "      <td>5.0</td>\n",
       "      <td>1</td>\n",
       "      <td>credit_card</td>\n",
       "      <td>3</td>\n",
       "      <td>179.12</td>\n",
       "      <td>9.0</td>\n",
       "      <td>0.0</td>\n",
       "      <td>9.0</td>\n",
       "      <td>17.0</td>\n",
       "    </tr>\n",
       "  </tbody>\n",
       "</table>\n",
       "</div>"
      ],
      "text/plain": [
       "                           order_id                       customer_id  \\\n",
       "0  e481f51cbdc54678b7cc49136f2d6af7  9ef432eb6251297304e76186b10a928d   \n",
       "1  e481f51cbdc54678b7cc49136f2d6af7  9ef432eb6251297304e76186b10a928d   \n",
       "2  e481f51cbdc54678b7cc49136f2d6af7  9ef432eb6251297304e76186b10a928d   \n",
       "3  53cdb2fc8bc7dce0b6741e2150273451  b0830fb4747a6c6d20dea0b8c802d7ef   \n",
       "4  47770eb9100c2d0c44946d9cf07ec65d  41ce2a54c0b03bf3443c3d931a367089   \n",
       "\n",
       "                 customer_unique_id order_status order_purchase_timestamp  \\\n",
       "0  7c396fd4830fd04220f754e42b4e5bff    delivered      2017-10-02 10:56:33   \n",
       "1  7c396fd4830fd04220f754e42b4e5bff    delivered      2017-10-02 10:56:33   \n",
       "2  7c396fd4830fd04220f754e42b4e5bff    delivered      2017-10-02 10:56:33   \n",
       "3  af07308b275d755c9edb36a90c618231    delivered      2018-07-24 20:41:37   \n",
       "4  3a653a41f6f9fc3d2a113cf8398680e8    delivered      2018-08-08 08:38:49   \n",
       "\n",
       "     order_approved_at order_delivered_carrier_date  \\\n",
       "0  2017-10-02 11:07:15          2017-10-04 19:55:00   \n",
       "1  2017-10-02 11:07:15          2017-10-04 19:55:00   \n",
       "2  2017-10-02 11:07:15          2017-10-04 19:55:00   \n",
       "3  2018-07-26 03:24:27          2018-07-26 14:31:00   \n",
       "4  2018-08-08 08:55:23          2018-08-08 13:50:00   \n",
       "\n",
       "  order_delivered_customer_date order_estimated_delivery_date  review_score  \\\n",
       "0           2017-10-10 21:25:13                    2017-10-18           4.0   \n",
       "1           2017-10-10 21:25:13                    2017-10-18           4.0   \n",
       "2           2017-10-10 21:25:13                    2017-10-18           4.0   \n",
       "3           2018-08-07 15:27:45                    2018-08-13           4.0   \n",
       "4           2018-08-17 18:06:29                    2018-09-04           5.0   \n",
       "\n",
       "   payment_sequential payment_type  payment_installments  payment_value  \\\n",
       "0                   1  credit_card                     1          18.12   \n",
       "1                   3      voucher                     1           2.00   \n",
       "2                   2      voucher                     1          18.59   \n",
       "3                   1       boleto                     1         141.46   \n",
       "4                   1  credit_card                     3         179.12   \n",
       "\n",
       "   act_delivery_days  seller_delivery_days  carrier_delivery_days  \\\n",
       "0                8.0                   2.0                    6.0   \n",
       "1                8.0                   2.0                    6.0   \n",
       "2                8.0                   2.0                    6.0   \n",
       "3               12.0                   0.0                   12.0   \n",
       "4                9.0                   0.0                    9.0   \n",
       "\n",
       "   est_less_act_delivery_days  \n",
       "0                         7.0  \n",
       "1                         7.0  \n",
       "2                         7.0  \n",
       "3                         5.0  \n",
       "4                        17.0  "
      ]
     },
     "execution_count": 5,
     "metadata": {},
     "output_type": "execute_result"
    }
   ],
   "source": [
    "# Check orders dataset\n",
    "\n",
    "df.head()"
   ]
  },
  {
   "cell_type": "code",
   "execution_count": 6,
   "id": "03071118",
   "metadata": {},
   "outputs": [
    {
     "data": {
      "text/plain": [
       "(104477, 18)"
      ]
     },
     "execution_count": 6,
     "metadata": {},
     "output_type": "execute_result"
    }
   ],
   "source": [
    "df.shape"
   ]
  },
  {
   "cell_type": "markdown",
   "id": "280f1efd",
   "metadata": {},
   "source": [
    "## 2. Data cleaning"
   ]
  },
  {
   "cell_type": "markdown",
   "id": "742fcf7a",
   "metadata": {},
   "source": [
    "#### i) Missing values check"
   ]
  },
  {
   "cell_type": "code",
   "execution_count": 7,
   "id": "e104d2cc",
   "metadata": {},
   "outputs": [
    {
     "data": {
      "text/plain": [
       "order_id                            0\n",
       "customer_id                         0\n",
       "customer_unique_id                  0\n",
       "order_status                        0\n",
       "order_purchase_timestamp            0\n",
       "order_approved_at                 176\n",
       "order_delivered_carrier_date     1898\n",
       "order_delivered_customer_date    3154\n",
       "order_estimated_delivery_date       0\n",
       "review_score                      800\n",
       "payment_sequential                  0\n",
       "payment_type                        0\n",
       "payment_installments                0\n",
       "payment_value                       0\n",
       "act_delivery_days                3168\n",
       "seller_delivery_days             1912\n",
       "carrier_delivery_days            3155\n",
       "est_less_act_delivery_days       3154\n",
       "dtype: int64"
      ]
     },
     "execution_count": 7,
     "metadata": {},
     "output_type": "execute_result"
    }
   ],
   "source": [
    "# Check for missing values\n",
    "\n",
    "df.isnull().sum()"
   ]
  },
  {
   "cell_type": "code",
   "execution_count": 8,
   "id": "4859a2be",
   "metadata": {},
   "outputs": [],
   "source": [
    "# Remove records with missing data since they are a small subset of the total orders\n",
    "\n",
    "df.dropna(subset=['order_approved_at', 'order_delivered_carrier_date', 'order_delivered_customer_date', 'review_score'], inplace=True)"
   ]
  },
  {
   "cell_type": "code",
   "execution_count": 9,
   "id": "b3456d73",
   "metadata": {},
   "outputs": [
    {
     "data": {
      "text/plain": [
       "order_id                         0\n",
       "customer_id                      0\n",
       "customer_unique_id               0\n",
       "order_status                     0\n",
       "order_purchase_timestamp         0\n",
       "order_approved_at                0\n",
       "order_delivered_carrier_date     0\n",
       "order_delivered_customer_date    0\n",
       "order_estimated_delivery_date    0\n",
       "review_score                     0\n",
       "payment_sequential               0\n",
       "payment_type                     0\n",
       "payment_installments             0\n",
       "payment_value                    0\n",
       "act_delivery_days                0\n",
       "seller_delivery_days             0\n",
       "carrier_delivery_days            0\n",
       "est_less_act_delivery_days       0\n",
       "dtype: int64"
      ]
     },
     "execution_count": 9,
     "metadata": {},
     "output_type": "execute_result"
    }
   ],
   "source": [
    "# Re-check for missing values\n",
    "\n",
    "df.isnull().sum()"
   ]
  },
  {
   "cell_type": "markdown",
   "id": "9f58da69",
   "metadata": {},
   "source": [
    "#### ii) Duplicates check"
   ]
  },
  {
   "cell_type": "code",
   "execution_count": 10,
   "id": "e7aa99d6",
   "metadata": {},
   "outputs": [],
   "source": [
    "dups = df.duplicated()"
   ]
  },
  {
   "cell_type": "code",
   "execution_count": 11,
   "id": "62a41c7d",
   "metadata": {},
   "outputs": [
    {
     "data": {
      "text/plain": [
       "(100632,)"
      ]
     },
     "execution_count": 11,
     "metadata": {},
     "output_type": "execute_result"
    }
   ],
   "source": [
    "dups.shape # No dups"
   ]
  },
  {
   "cell_type": "markdown",
   "id": "0ec7a196",
   "metadata": {},
   "source": [
    "#### iii) Extreme values checks"
   ]
  },
  {
   "cell_type": "code",
   "execution_count": 12,
   "id": "d9297d54",
   "metadata": {},
   "outputs": [
    {
     "data": {
      "text/plain": [
       "<Axes: xlabel='act_delivery_days', ylabel='Count'>"
      ]
     },
     "execution_count": 12,
     "metadata": {},
     "output_type": "execute_result"
    },
    {
     "data": {
      "image/png": "[encoded data removed]",
      "text/plain": [
       "<Figure size 640x480 with 1 Axes>"
      ]
     },
     "metadata": {},
     "output_type": "display_data"
    }
   ],
   "source": [
    "# Check act_delivery_days extreme values\n",
    "\n",
    "sns.histplot(df['act_delivery_days'], bins=20, kde = True)"
   ]
  },
  {
   "cell_type": "code",
   "execution_count": 13,
   "id": "e7c50795",
   "metadata": {},
   "outputs": [
    {
     "data": {
      "text/html": [
       "<div>\n",
       "<style scoped>\n",
       "    .dataframe tbody tr th:only-of-type {\n",
       "        vertical-align: middle;\n",
       "    }\n",
       "\n",
       "    .dataframe tbody tr th {\n",
       "        vertical-align: top;\n",
       "    }\n",
       "\n",
       "    .dataframe thead th {\n",
       "        text-align: right;\n",
       "    }\n",
       "</style>\n",
       "<table border=\"1\" class=\"dataframe\">\n",
       "  <thead>\n",
       "    <tr style=\"text-align: right;\">\n",
       "      <th></th>\n",
       "      <th>order_id</th>\n",
       "      <th>customer_id</th>\n",
       "      <th>customer_unique_id</th>\n",
       "      <th>order_status</th>\n",
       "      <th>order_purchase_timestamp</th>\n",
       "      <th>order_approved_at</th>\n",
       "      <th>order_delivered_carrier_date</th>\n",
       "      <th>order_delivered_customer_date</th>\n",
       "      <th>order_estimated_delivery_date</th>\n",
       "      <th>review_score</th>\n",
       "      <th>payment_sequential</th>\n",
       "      <th>payment_type</th>\n",
       "      <th>payment_installments</th>\n",
       "      <th>payment_value</th>\n",
       "      <th>act_delivery_days</th>\n",
       "      <th>seller_delivery_days</th>\n",
       "      <th>carrier_delivery_days</th>\n",
       "      <th>est_less_act_delivery_days</th>\n",
       "    </tr>\n",
       "  </thead>\n",
       "  <tbody>\n",
       "    <tr>\n",
       "      <th>1701</th>\n",
       "      <td>a4efaffc506a395c9cea7402b078c1e5</td>\n",
       "      <td>2020559b0ae9910898ef57a8159533ab</td>\n",
       "      <td>aa59e23a1fdb544008529f635be3f8cf</td>\n",
       "      <td>delivered</td>\n",
       "      <td>2018-01-17 10:50:09</td>\n",
       "      <td>2018-01-17 10:58:33</td>\n",
       "      <td>2018-01-24 12:30:54</td>\n",
       "      <td>2018-05-07 19:25:33</td>\n",
       "      <td>2018-02-23</td>\n",
       "      <td>1.0</td>\n",
       "      <td>1</td>\n",
       "      <td>credit_card</td>\n",
       "      <td>2</td>\n",
       "      <td>118.02</td>\n",
       "      <td>110.0</td>\n",
       "      <td>7.0</td>\n",
       "      <td>103.0</td>\n",
       "      <td>-74.0</td>\n",
       "    </tr>\n",
       "    <tr>\n",
       "      <th>3252</th>\n",
       "      <td>8b7fd198ad184563c231653673e75a7f</td>\n",
       "      <td>3eddc75fe2314996f68ddcd89ddb5caf</td>\n",
       "      <td>d6e35f5a7df8970f8cae8251516ab787</td>\n",
       "      <td>delivered</td>\n",
       "      <td>2017-11-14 10:04:27</td>\n",
       "      <td>2017-11-17 08:47:00</td>\n",
       "      <td>2018-02-26 17:27:15</td>\n",
       "      <td>2018-02-27 18:05:08</td>\n",
       "      <td>2017-11-28</td>\n",
       "      <td>1.0</td>\n",
       "      <td>1</td>\n",
       "      <td>credit_card</td>\n",
       "      <td>5</td>\n",
       "      <td>56.97</td>\n",
       "      <td>102.0</td>\n",
       "      <td>101.0</td>\n",
       "      <td>1.0</td>\n",
       "      <td>-92.0</td>\n",
       "    </tr>\n",
       "    <tr>\n",
       "      <th>3379</th>\n",
       "      <td>4f39a94d6e474819d898d6df7d394996</td>\n",
       "      <td>27a410dccb395b6ce45963874d158352</td>\n",
       "      <td>b0cd6a169aaf7502ca3783e5e7527921</td>\n",
       "      <td>delivered</td>\n",
       "      <td>2017-04-28 16:28:03</td>\n",
       "      <td>2017-04-29 02:42:51</td>\n",
       "      <td>2017-05-09 14:06:48</td>\n",
       "      <td>2017-09-19 13:54:18</td>\n",
       "      <td>2017-05-30</td>\n",
       "      <td>2.0</td>\n",
       "      <td>1</td>\n",
       "      <td>boleto</td>\n",
       "      <td>1</td>\n",
       "      <td>196.50</td>\n",
       "      <td>143.0</td>\n",
       "      <td>10.0</td>\n",
       "      <td>132.0</td>\n",
       "      <td>-113.0</td>\n",
       "    </tr>\n",
       "    <tr>\n",
       "      <th>4881</th>\n",
       "      <td>b31c7dea63bb08f8cdd1ec32514ccf0b</td>\n",
       "      <td>2a351c540a0cbdd0d9c266626f6d3acc</td>\n",
       "      <td>8a9b30182d557a7b44a8543c9f2fe931</td>\n",
       "      <td>delivered</td>\n",
       "      <td>2017-09-26 18:35:35</td>\n",
       "      <td>2017-09-26 18:49:09</td>\n",
       "      <td>2017-09-29 16:23:06</td>\n",
       "      <td>2018-02-05 21:25:43</td>\n",
       "      <td>2017-10-19</td>\n",
       "      <td>1.0</td>\n",
       "      <td>1</td>\n",
       "      <td>credit_card</td>\n",
       "      <td>6</td>\n",
       "      <td>72.28</td>\n",
       "      <td>132.0</td>\n",
       "      <td>2.0</td>\n",
       "      <td>129.0</td>\n",
       "      <td>-110.0</td>\n",
       "    </tr>\n",
       "    <tr>\n",
       "      <th>10917</th>\n",
       "      <td>3602a80b09d914236f74c733631f3b8b</td>\n",
       "      <td>367000b9bd508db790e048df2f6d6af9</td>\n",
       "      <td>4261e564d3e674b5234f01d199701475</td>\n",
       "      <td>delivered</td>\n",
       "      <td>2018-01-31 20:38:38</td>\n",
       "      <td>2018-02-02 08:55:51</td>\n",
       "      <td>2018-02-02 18:48:35</td>\n",
       "      <td>2018-05-18 11:06:52</td>\n",
       "      <td>2018-03-19</td>\n",
       "      <td>1.0</td>\n",
       "      <td>1</td>\n",
       "      <td>credit_card</td>\n",
       "      <td>1</td>\n",
       "      <td>133.03</td>\n",
       "      <td>105.0</td>\n",
       "      <td>0.0</td>\n",
       "      <td>104.0</td>\n",
       "      <td>-61.0</td>\n",
       "    </tr>\n",
       "    <tr>\n",
       "      <th>...</th>\n",
       "      <td>...</td>\n",
       "      <td>...</td>\n",
       "      <td>...</td>\n",
       "      <td>...</td>\n",
       "      <td>...</td>\n",
       "      <td>...</td>\n",
       "      <td>...</td>\n",
       "      <td>...</td>\n",
       "      <td>...</td>\n",
       "      <td>...</td>\n",
       "      <td>...</td>\n",
       "      <td>...</td>\n",
       "      <td>...</td>\n",
       "      <td>...</td>\n",
       "      <td>...</td>\n",
       "      <td>...</td>\n",
       "      <td>...</td>\n",
       "      <td>...</td>\n",
       "    </tr>\n",
       "    <tr>\n",
       "      <th>90894</th>\n",
       "      <td>ed8e9faf1b75f43ee027103957135663</td>\n",
       "      <td>14fcb7be0e0a5868f190e1cda895d6fa</td>\n",
       "      <td>68d8be0d89636fb2e46c9cabae4360e1</td>\n",
       "      <td>delivered</td>\n",
       "      <td>2017-11-29 15:10:14</td>\n",
       "      <td>2017-12-01 11:31:53</td>\n",
       "      <td>2017-12-04 19:48:46</td>\n",
       "      <td>2018-05-21 18:22:18</td>\n",
       "      <td>2017-12-19</td>\n",
       "      <td>4.0</td>\n",
       "      <td>1</td>\n",
       "      <td>boleto</td>\n",
       "      <td>1</td>\n",
       "      <td>85.82</td>\n",
       "      <td>171.0</td>\n",
       "      <td>3.0</td>\n",
       "      <td>167.0</td>\n",
       "      <td>-154.0</td>\n",
       "    </tr>\n",
       "    <tr>\n",
       "      <th>93608</th>\n",
       "      <td>285ab9426d6982034523a855f55a885e</td>\n",
       "      <td>9cf2c3fa2632cee748e1a59ca9d09b21</td>\n",
       "      <td>3c2564d42f7ddd8b7576f0dd9cb1b4c5</td>\n",
       "      <td>delivered</td>\n",
       "      <td>2017-03-08 22:47:40</td>\n",
       "      <td>2017-03-08 22:47:40</td>\n",
       "      <td>2017-03-09 08:53:20</td>\n",
       "      <td>2017-09-19 14:00:04</td>\n",
       "      <td>2017-04-06</td>\n",
       "      <td>1.0</td>\n",
       "      <td>1</td>\n",
       "      <td>credit_card</td>\n",
       "      <td>10</td>\n",
       "      <td>457.65</td>\n",
       "      <td>194.0</td>\n",
       "      <td>0.0</td>\n",
       "      <td>194.0</td>\n",
       "      <td>-167.0</td>\n",
       "    </tr>\n",
       "    <tr>\n",
       "      <th>96868</th>\n",
       "      <td>29c3b79aace1b72a82b1232bf494e16f</td>\n",
       "      <td>9225e82d7b09bfc606f1849de9300050</td>\n",
       "      <td>6411c4f3a3a713893b2a54533129da94</td>\n",
       "      <td>delivered</td>\n",
       "      <td>2017-12-16 10:04:35</td>\n",
       "      <td>2017-12-16 10:15:25</td>\n",
       "      <td>2018-01-15 17:51:55</td>\n",
       "      <td>2018-04-28 15:51:50</td>\n",
       "      <td>2018-01-24</td>\n",
       "      <td>2.0</td>\n",
       "      <td>1</td>\n",
       "      <td>credit_card</td>\n",
       "      <td>10</td>\n",
       "      <td>600.43</td>\n",
       "      <td>133.0</td>\n",
       "      <td>30.0</td>\n",
       "      <td>102.0</td>\n",
       "      <td>-95.0</td>\n",
       "    </tr>\n",
       "    <tr>\n",
       "      <th>99925</th>\n",
       "      <td>17cc6728043d53cc948551dfbf0a338b</td>\n",
       "      <td>dcfb92c7e6d519560090aeb5bfa03f0c</td>\n",
       "      <td>cf3acd6a8c138a12143363ae5a613f2e</td>\n",
       "      <td>delivered</td>\n",
       "      <td>2017-11-25 12:14:38</td>\n",
       "      <td>2017-11-25 12:33:04</td>\n",
       "      <td>2017-11-28 18:19:49</td>\n",
       "      <td>2018-04-16 23:26:51</td>\n",
       "      <td>2017-12-27</td>\n",
       "      <td>1.0</td>\n",
       "      <td>1</td>\n",
       "      <td>credit_card</td>\n",
       "      <td>7</td>\n",
       "      <td>71.15</td>\n",
       "      <td>142.0</td>\n",
       "      <td>3.0</td>\n",
       "      <td>139.0</td>\n",
       "      <td>-111.0</td>\n",
       "    </tr>\n",
       "    <tr>\n",
       "      <th>103179</th>\n",
       "      <td>2e56f943f231f5fe108f43fb370b0ed6</td>\n",
       "      <td>66b9bc2d53ea09b027966337424fa0c7</td>\n",
       "      <td>d6e7520f52b7d40e2bb54f05c374225e</td>\n",
       "      <td>delivered</td>\n",
       "      <td>2017-02-09 12:12:22</td>\n",
       "      <td>2017-02-09 12:32:26</td>\n",
       "      <td>2017-02-14 14:00:48</td>\n",
       "      <td>2017-05-25 07:14:44</td>\n",
       "      <td>2017-03-16</td>\n",
       "      <td>5.0</td>\n",
       "      <td>1</td>\n",
       "      <td>credit_card</td>\n",
       "      <td>10</td>\n",
       "      <td>268.08</td>\n",
       "      <td>104.0</td>\n",
       "      <td>5.0</td>\n",
       "      <td>99.0</td>\n",
       "      <td>-71.0</td>\n",
       "    </tr>\n",
       "  </tbody>\n",
       "</table>\n",
       "<p>62 rows × 18 columns</p>\n",
       "</div>"
      ],
      "text/plain": [
       "                                order_id                       customer_id  \\\n",
       "1701    a4efaffc506a395c9cea7402b078c1e5  2020559b0ae9910898ef57a8159533ab   \n",
       "3252    8b7fd198ad184563c231653673e75a7f  3eddc75fe2314996f68ddcd89ddb5caf   \n",
       "3379    4f39a94d6e474819d898d6df7d394996  27a410dccb395b6ce45963874d158352   \n",
       "4881    b31c7dea63bb08f8cdd1ec32514ccf0b  2a351c540a0cbdd0d9c266626f6d3acc   \n",
       "10917   3602a80b09d914236f74c733631f3b8b  367000b9bd508db790e048df2f6d6af9   \n",
       "...                                  ...                               ...   \n",
       "90894   ed8e9faf1b75f43ee027103957135663  14fcb7be0e0a5868f190e1cda895d6fa   \n",
       "93608   285ab9426d6982034523a855f55a885e  9cf2c3fa2632cee748e1a59ca9d09b21   \n",
       "96868   29c3b79aace1b72a82b1232bf494e16f  9225e82d7b09bfc606f1849de9300050   \n",
       "99925   17cc6728043d53cc948551dfbf0a338b  dcfb92c7e6d519560090aeb5bfa03f0c   \n",
       "103179  2e56f943f231f5fe108f43fb370b0ed6  66b9bc2d53ea09b027966337424fa0c7   \n",
       "\n",
       "                      customer_unique_id order_status  \\\n",
       "1701    aa59e23a1fdb544008529f635be3f8cf    delivered   \n",
       "3252    d6e35f5a7df8970f8cae8251516ab787    delivered   \n",
       "3379    b0cd6a169aaf7502ca3783e5e7527921    delivered   \n",
       "4881    8a9b30182d557a7b44a8543c9f2fe931    delivered   \n",
       "10917   4261e564d3e674b5234f01d199701475    delivered   \n",
       "...                                  ...          ...   \n",
       "90894   68d8be0d89636fb2e46c9cabae4360e1    delivered   \n",
       "93608   3c2564d42f7ddd8b7576f0dd9cb1b4c5    delivered   \n",
       "96868   6411c4f3a3a713893b2a54533129da94    delivered   \n",
       "99925   cf3acd6a8c138a12143363ae5a613f2e    delivered   \n",
       "103179  d6e7520f52b7d40e2bb54f05c374225e    delivered   \n",
       "\n",
       "       order_purchase_timestamp    order_approved_at  \\\n",
       "1701        2018-01-17 10:50:09  2018-01-17 10:58:33   \n",
       "3252        2017-11-14 10:04:27  2017-11-17 08:47:00   \n",
       "3379        2017-04-28 16:28:03  2017-04-29 02:42:51   \n",
       "4881        2017-09-26 18:35:35  2017-09-26 18:49:09   \n",
       "10917       2018-01-31 20:38:38  2018-02-02 08:55:51   \n",
       "...                         ...                  ...   \n",
       "90894       2017-11-29 15:10:14  2017-12-01 11:31:53   \n",
       "93608       2017-03-08 22:47:40  2017-03-08 22:47:40   \n",
       "96868       2017-12-16 10:04:35  2017-12-16 10:15:25   \n",
       "99925       2017-11-25 12:14:38  2017-11-25 12:33:04   \n",
       "103179      2017-02-09 12:12:22  2017-02-09 12:32:26   \n",
       "\n",
       "       order_delivered_carrier_date order_delivered_customer_date  \\\n",
       "1701            2018-01-24 12:30:54           2018-05-07 19:25:33   \n",
       "3252            2018-02-26 17:27:15           2018-02-27 18:05:08   \n",
       "3379            2017-05-09 14:06:48           2017-09-19 13:54:18   \n",
       "4881            2017-09-29 16:23:06           2018-02-05 21:25:43   \n",
       "10917           2018-02-02 18:48:35           2018-05-18 11:06:52   \n",
       "...                             ...                           ...   \n",
       "90894           2017-12-04 19:48:46           2018-05-21 18:22:18   \n",
       "93608           2017-03-09 08:53:20           2017-09-19 14:00:04   \n",
       "96868           2018-01-15 17:51:55           2018-04-28 15:51:50   \n",
       "99925           2017-11-28 18:19:49           2018-04-16 23:26:51   \n",
       "103179          2017-02-14 14:00:48           2017-05-25 07:14:44   \n",
       "\n",
       "       order_estimated_delivery_date  review_score  payment_sequential  \\\n",
       "1701                      2018-02-23           1.0                   1   \n",
       "3252                      2017-11-28           1.0                   1   \n",
       "3379                      2017-05-30           2.0                   1   \n",
       "4881                      2017-10-19           1.0                   1   \n",
       "10917                     2018-03-19           1.0                   1   \n",
       "...                              ...           ...                 ...   \n",
       "90894                     2017-12-19           4.0                   1   \n",
       "93608                     2017-04-06           1.0                   1   \n",
       "96868                     2018-01-24           2.0                   1   \n",
       "99925                     2017-12-27           1.0                   1   \n",
       "103179                    2017-03-16           5.0                   1   \n",
       "\n",
       "       payment_type  payment_installments  payment_value  act_delivery_days  \\\n",
       "1701    credit_card                     2         118.02              110.0   \n",
       "3252    credit_card                     5          56.97              102.0   \n",
       "3379         boleto                     1         196.50              143.0   \n",
       "4881    credit_card                     6          72.28              132.0   \n",
       "10917   credit_card                     1         133.03              105.0   \n",
       "...             ...                   ...            ...                ...   \n",
       "90894        boleto                     1          85.82              171.0   \n",
       "93608   credit_card                    10         457.65              194.0   \n",
       "96868   credit_card                    10         600.43              133.0   \n",
       "99925   credit_card                     7          71.15              142.0   \n",
       "103179  credit_card                    10         268.08              104.0   \n",
       "\n",
       "        seller_delivery_days  carrier_delivery_days  \\\n",
       "1701                     7.0                  103.0   \n",
       "3252                   101.0                    1.0   \n",
       "3379                    10.0                  132.0   \n",
       "4881                     2.0                  129.0   \n",
       "10917                    0.0                  104.0   \n",
       "...                      ...                    ...   \n",
       "90894                    3.0                  167.0   \n",
       "93608                    0.0                  194.0   \n",
       "96868                   30.0                  102.0   \n",
       "99925                    3.0                  139.0   \n",
       "103179                   5.0                   99.0   \n",
       "\n",
       "        est_less_act_delivery_days  \n",
       "1701                         -74.0  \n",
       "3252                         -92.0  \n",
       "3379                        -113.0  \n",
       "4881                        -110.0  \n",
       "10917                        -61.0  \n",
       "...                            ...  \n",
       "90894                       -154.0  \n",
       "93608                       -167.0  \n",
       "96868                        -95.0  \n",
       "99925                       -111.0  \n",
       "103179                       -71.0  \n",
       "\n",
       "[62 rows x 18 columns]"
      ]
     },
     "execution_count": 13,
     "metadata": {},
     "output_type": "execute_result"
    }
   ],
   "source": [
    "# Check records with extreme high values\n",
    "\n",
    "df[df['act_delivery_days'] > 100] # Leave as these look like legitimate deliveries that took a long time to reach customer"
   ]
  },
  {
   "cell_type": "code",
   "execution_count": 14,
   "id": "6a633e8b",
   "metadata": {},
   "outputs": [
    {
     "data": {
      "text/plain": [
       "11.623042372207648"
      ]
     },
     "execution_count": 14,
     "metadata": {},
     "output_type": "execute_result"
    }
   ],
   "source": [
    "df['act_delivery_days'].mean() # Check the mean"
   ]
  },
  {
   "cell_type": "code",
   "execution_count": 15,
   "id": "f8ba423d",
   "metadata": {},
   "outputs": [
    {
     "data": {
      "text/plain": [
       "9.0"
      ]
     },
     "execution_count": 15,
     "metadata": {},
     "output_type": "execute_result"
    }
   ],
   "source": [
    "df['act_delivery_days'].median() # Check the median"
   ]
  },
  {
   "cell_type": "code",
   "execution_count": 16,
   "id": "c988fc23",
   "metadata": {},
   "outputs": [
    {
     "data": {
      "text/plain": [
       "208.0"
      ]
     },
     "execution_count": 16,
     "metadata": {},
     "output_type": "execute_result"
    }
   ],
   "source": [
    "df['act_delivery_days'].max() # Check the max"
   ]
  },
  {
   "cell_type": "markdown",
   "id": "7e54d627",
   "metadata": {},
   "source": [
    "## 3. Data prep for regression analysis"
   ]
  },
  {
   "cell_type": "code",
   "execution_count": 17,
   "id": "c3fdebb9",
   "metadata": {},
   "outputs": [
    {
     "data": {
      "image/png": "[encoded data removed]",
      "text/plain": [
       "<Figure size 640x480 with 1 Axes>"
      ]
     },
     "metadata": {},
     "output_type": "display_data"
    }
   ],
   "source": [
    "# Create a scatterplot using matplotlib for another look at how actual delivery days and carrier delivery days plot against each other.\n",
    "df.plot(x = 'carrier_delivery_days', y = 'act_delivery_days', style = 'o')\n",
    "plt.title('Carrier Delivery Days vs Actual Delivery Days')  \n",
    "plt.xlabel('Carrier Delivery Days')  \n",
    "plt.ylabel('Actual Delivery Days')  \n",
    "plt.show()"
   ]
  },
  {
   "cell_type": "markdown",
   "id": "6a5f9fd7",
   "metadata": {},
   "source": [
    "#### There appears to be a close relationship between these two variables that I'd like to explore further. However, the scatterplot shows an obvious outlier that defies logic - carrier delivery days must be less than actual (aka total) delivery days since the latter should be at or close to seller delivery days plus carrier delivery days. Likely a data error as it isn't possible for an order to be delivered within a few days if it took the carrier nearly 200 days to ship the product from when the seller made it available. I will remove this outlier."
   ]
  },
  {
   "cell_type": "code",
   "execution_count": 18,
   "id": "c7e9c3d6",
   "metadata": {},
   "outputs": [],
   "source": [
    "# Exclude records where orders are delivered on dates before the seller has made them available for shipping (not possible)\n",
    "\n",
    "df = df[df['carrier_delivery_days'] <= df['act_delivery_days']]"
   ]
  },
  {
   "cell_type": "code",
   "execution_count": 19,
   "id": "50fc7b46",
   "metadata": {},
   "outputs": [
    {
     "data": {
      "text/plain": [
       "(99861, 18)"
      ]
     },
     "execution_count": 19,
     "metadata": {},
     "output_type": "execute_result"
    }
   ],
   "source": [
    "# Check output\n",
    "\n",
    "df.shape # 771 orders removed"
   ]
  },
  {
   "cell_type": "code",
   "execution_count": 20,
   "id": "4ffe480d",
   "metadata": {},
   "outputs": [
    {
     "data": {
      "image/png": "[encoded data removed]",
      "text/plain": [
       "<Figure size 640x480 with 1 Axes>"
      ]
     },
     "metadata": {},
     "output_type": "display_data"
    }
   ],
   "source": [
    "# Re-run scatterplot\n",
    "\n",
    "df.plot(x = 'carrier_delivery_days', y = 'act_delivery_days', style = 'o')\n",
    "plt.title('Carrier Delivery Days vs Actual Delivery Days')  \n",
    "plt.xlabel('Carrier Delivery Days')  \n",
    "plt.ylabel('Actual Delivery Days')  \n",
    "plt.show()"
   ]
  },
  {
   "cell_type": "code",
   "execution_count": 21,
   "id": "c64d96bc",
   "metadata": {},
   "outputs": [
    {
     "data": {
      "image/png": "[encoded data removed]",
      "text/plain": [
       "<Figure size 640x480 with 1 Axes>"
      ]
     },
     "metadata": {},
     "output_type": "display_data"
    }
   ],
   "source": [
    "# Create a scatterplot using matplotlib for another look at how actual delivery days and carrier delivery days plot against each other.\n",
    "\n",
    "df.plot(x = 'seller_delivery_days', y = 'act_delivery_days', style = 'o')\n",
    "plt.title('Seller Delivery Days vs Actual Delivery Days')  \n",
    "plt.xlabel('Seller Delivery Days')  \n",
    "plt.ylabel('Actual Delivery Days')  \n",
    "plt.show()"
   ]
  },
  {
   "cell_type": "markdown",
   "id": "3278e439",
   "metadata": {},
   "source": [
    "#### The scatterplot does not appear to be a close relationship between these two variables, therefore further analysis will focus on the relationship between carrier delivery days and actual/total delivery days."
   ]
  },
  {
   "cell_type": "markdown",
   "id": "748b1c3e",
   "metadata": {},
   "source": [
    "#### Hypothesis: Regardless of seller actions, actual delivery times to customers on Olist orders are dependent on carrier delivery performance."
   ]
  },
  {
   "cell_type": "code",
   "execution_count": 22,
   "id": "9ff80960",
   "metadata": {},
   "outputs": [],
   "source": [
    "# Reshape the variables into NumPy arrays and put them into separate objects.\n",
    "\n",
    "X = df['carrier_delivery_days'].values.reshape(-1,1)\n",
    "y = df['act_delivery_days'].values.reshape(-1,1)"
   ]
  },
  {
   "cell_type": "code",
   "execution_count": 23,
   "id": "064bae8b",
   "metadata": {},
   "outputs": [
    {
     "data": {
      "text/plain": [
       "array([[ 6.],\n",
       "       [ 6.],\n",
       "       [ 6.],\n",
       "       ...,\n",
       "       [23.],\n",
       "       [13.],\n",
       "       [ 6.]])"
      ]
     },
     "execution_count": 23,
     "metadata": {},
     "output_type": "execute_result"
    }
   ],
   "source": [
    "X"
   ]
  },
  {
   "cell_type": "code",
   "execution_count": 24,
   "id": "5512c337",
   "metadata": {},
   "outputs": [
    {
     "data": {
      "text/plain": [
       "array([[ 8.],\n",
       "       [ 8.],\n",
       "       [ 8.],\n",
       "       ...,\n",
       "       [24.],\n",
       "       [17.],\n",
       "       [ 7.]])"
      ]
     },
     "execution_count": 24,
     "metadata": {},
     "output_type": "execute_result"
    }
   ],
   "source": [
    "y"
   ]
  },
  {
   "cell_type": "code",
   "execution_count": 25,
   "id": "1e37cd32",
   "metadata": {},
   "outputs": [],
   "source": [
    "# Split data into a training set and a test set.\n",
    "\n",
    "X_train, X_test, y_train, y_test = train_test_split(X, y, test_size=0.3, random_state=0)"
   ]
  },
  {
   "cell_type": "markdown",
   "id": "2158d1cf",
   "metadata": {},
   "source": [
    "## 4. Regression analysis"
   ]
  },
  {
   "cell_type": "code",
   "execution_count": 26,
   "id": "baa51f38",
   "metadata": {},
   "outputs": [],
   "source": [
    "# Create a regression object.\n",
    "\n",
    "regression = LinearRegression()  # This is the regression object, which will be fit onto the training set."
   ]
  },
  {
   "cell_type": "code",
   "execution_count": 27,
   "id": "cc99d410",
   "metadata": {},
   "outputs": [
    {
     "data": {
      "text/html": [
       "<style>#sk-container-id-1 {color: black;background-color: white;}#sk-container-id-1 pre{padding: 0;}#sk-container-id-1 div.sk-toggleable {background-color: white;}#sk-container-id-1 label.sk-toggleable__label {cursor: pointer;display: block;width: 100%;margin-bottom: 0;padding: 0.3em;box-sizing: border-box;text-align: center;}#sk-container-id-1 label.sk-toggleable__label-arrow:before {content: \"▸\";float: left;margin-right: 0.25em;color: #696969;}#sk-container-id-1 label.sk-toggleable__label-arrow:hover:before {color: black;}#sk-container-id-1 div.sk-estimator:hover label.sk-toggleable__label-arrow:before {color: black;}#sk-container-id-1 div.sk-toggleable__content {max-height: 0;max-width: 0;overflow: hidden;text-align: left;background-color: #f0f8ff;}#sk-container-id-1 div.sk-toggleable__content pre {margin: 0.2em;color: black;border-radius: 0.25em;background-color: #f0f8ff;}#sk-container-id-1 input.sk-toggleable__control:checked~div.sk-toggleable__content {max-height: 200px;max-width: 100%;overflow: auto;}#sk-container-id-1 input.sk-toggleable__control:checked~label.sk-toggleable__label-arrow:before {content: \"▾\";}#sk-container-id-1 div.sk-estimator input.sk-toggleable__control:checked~label.sk-toggleable__label {background-color: #d4ebff;}#sk-container-id-1 div.sk-label input.sk-toggleable__control:checked~label.sk-toggleable__label {background-color: #d4ebff;}#sk-container-id-1 input.sk-hidden--visually {border: 0;clip: rect(1px 1px 1px 1px);clip: rect(1px, 1px, 1px, 1px);height: 1px;margin: -1px;overflow: hidden;padding: 0;position: absolute;width: 1px;}#sk-container-id-1 div.sk-estimator {font-family: monospace;background-color: #f0f8ff;border: 1px dotted black;border-radius: 0.25em;box-sizing: border-box;margin-bottom: 0.5em;}#sk-container-id-1 div.sk-estimator:hover {background-color: #d4ebff;}#sk-container-id-1 div.sk-parallel-item::after {content: \"\";width: 100%;border-bottom: 1px solid gray;flex-grow: 1;}#sk-container-id-1 div.sk-label:hover label.sk-toggleable__label {background-color: #d4ebff;}#sk-container-id-1 div.sk-serial::before {content: \"\";position: absolute;border-left: 1px solid gray;box-sizing: border-box;top: 0;bottom: 0;left: 50%;z-index: 0;}#sk-container-id-1 div.sk-serial {display: flex;flex-direction: column;align-items: center;background-color: white;padding-right: 0.2em;padding-left: 0.2em;position: relative;}#sk-container-id-1 div.sk-item {position: relative;z-index: 1;}#sk-container-id-1 div.sk-parallel {display: flex;align-items: stretch;justify-content: center;background-color: white;position: relative;}#sk-container-id-1 div.sk-item::before, #sk-container-id-1 div.sk-parallel-item::before {content: \"\";position: absolute;border-left: 1px solid gray;box-sizing: border-box;top: 0;bottom: 0;left: 50%;z-index: -1;}#sk-container-id-1 div.sk-parallel-item {display: flex;flex-direction: column;z-index: 1;position: relative;background-color: white;}#sk-container-id-1 div.sk-parallel-item:first-child::after {align-self: flex-end;width: 50%;}#sk-container-id-1 div.sk-parallel-item:last-child::after {align-self: flex-start;width: 50%;}#sk-container-id-1 div.sk-parallel-item:only-child::after {width: 0;}#sk-container-id-1 div.sk-dashed-wrapped {border: 1px dashed gray;margin: 0 0.4em 0.5em 0.4em;box-sizing: border-box;padding-bottom: 0.4em;background-color: white;}#sk-container-id-1 div.sk-label label {font-family: monospace;font-weight: bold;display: inline-block;line-height: 1.2em;}#sk-container-id-1 div.sk-label-container {text-align: center;}#sk-container-id-1 div.sk-container {/* jupyter's `normalize.less` sets `[hidden] { display: none; }` but bootstrap.min.css set `[hidden] { display: none !important; }` so we also need the `!important` here to be able to override the default hidden behavior on the sphinx rendered scikit-learn.org. See: https://github.com/scikit-learn/scikit-learn/issues/21755 */display: inline-block !important;position: relative;}#sk-container-id-1 div.sk-text-repr-fallback {display: none;}</style><div id=\"sk-container-id-1\" class=\"sk-top-container\"><div class=\"sk-text-repr-fallback\"><pre>LinearRegression()</pre><b>In a Jupyter environment, please rerun this cell to show the HTML representation or trust the notebook. <br />On GitHub, the HTML representation is unable to render, please try loading this page with nbviewer.org.</b></div><div class=\"sk-container\" hidden><div class=\"sk-item\"><div class=\"sk-estimator sk-toggleable\"><input class=\"sk-toggleable__control sk-hidden--visually\" id=\"sk-estimator-id-1\" type=\"checkbox\" checked><label for=\"sk-estimator-id-1\" class=\"sk-toggleable__label sk-toggleable__label-arrow\">LinearRegression</label><div class=\"sk-toggleable__content\"><pre>LinearRegression()</pre></div></div></div></div></div>"
      ],
      "text/plain": [
       "LinearRegression()"
      ]
     },
     "execution_count": 27,
     "metadata": {},
     "output_type": "execute_result"
    }
   ],
   "source": [
    "# Fit the regression object onto the training set.\n",
    "\n",
    "regression.fit(X_train, y_train)"
   ]
  },
  {
   "cell_type": "code",
   "execution_count": 28,
   "id": "df7982f8",
   "metadata": {},
   "outputs": [],
   "source": [
    "# Predict the values of y using X.\n",
    "\n",
    "y_predicted = regression.predict(X_test)"
   ]
  },
  {
   "cell_type": "code",
   "execution_count": 29,
   "id": "6421d8ca",
   "metadata": {},
   "outputs": [
    {
     "data": {
      "image/png": "[encoded data removed]",
      "text/plain": [
       "<Figure size 640x480 with 1 Axes>"
      ]
     },
     "metadata": {},
     "output_type": "display_data"
    }
   ],
   "source": [
    "# Create a plot that shows the regression line from the model on the test set.\n",
    "\n",
    "plot_test = plt\n",
    "plot_test.scatter(X_test, y_test, color='gray', s = 15)\n",
    "plot_test.plot(X_test, y_predicted, color='red', linewidth =3)\n",
    "plot_test.title('Carrier Delivery Days vs Actual Delivery Days (Test set)')\n",
    "plot_test.xlabel('Carrier Delivery Days')\n",
    "plot_test.ylabel('Actual Delivery Days')\n",
    "plot_test.show()"
   ]
  },
  {
   "cell_type": "markdown",
   "id": "71e8d0e1",
   "metadata": {},
   "source": [
    "#### Key observations: \n",
    "   1. The regression line appears to be a good fit to the data set, with few data points a long way from the regression line. This suggests that carrier delivery times alone have a very strong influence on total delivery times, consistent with the hypothesis. \n",
    "   2. There is a cluster of data points where total delivery days is higher than the model prediction, indicating that other factors are also influencing the overall peformance. \n",
    "   3. However, if the overwhelming driver of overall delivery times is the carrier performance, this would help the business focus on actions to improve this independent variable to shorten total delivery times to customers, which is likely to result in higher customer satisfaction and repeat sales."
   ]
  },
  {
   "cell_type": "code",
   "execution_count": 30,
   "id": "72bf449e",
   "metadata": {},
   "outputs": [],
   "source": [
    "# Create objects that contain the model summary statistics.\n",
    "\n",
    "rmse = mean_squared_error(y_test, y_predicted) # This is the mean squared error\n",
    "r2 = r2_score(y_test, y_predicted) # This is the R2 score"
   ]
  },
  {
   "cell_type": "code",
   "execution_count": 31,
   "id": "6b3706e5",
   "metadata": {},
   "outputs": [
    {
     "name": "stdout",
     "output_type": "stream",
     "text": [
      "Slope: [[1.01252346]]\n",
      "Mean squared error:  12.928509640834847\n",
      "R2 score:  0.8624866578270636\n"
     ]
    }
   ],
   "source": [
    "# Print the model summary statistics to evaluate the performance of the model.\n",
    "\n",
    "print('Slope:' ,regression.coef_)\n",
    "print('Mean squared error: ', rmse)\n",
    "print('R2 score: ', r2)"
   ]
  },
  {
   "cell_type": "code",
   "execution_count": 32,
   "id": "6902c4ea",
   "metadata": {},
   "outputs": [
    {
     "data": {
      "text/html": [
       "<div>\n",
       "<style scoped>\n",
       "    .dataframe tbody tr th:only-of-type {\n",
       "        vertical-align: middle;\n",
       "    }\n",
       "\n",
       "    .dataframe tbody tr th {\n",
       "        vertical-align: top;\n",
       "    }\n",
       "\n",
       "    .dataframe thead th {\n",
       "        text-align: right;\n",
       "    }\n",
       "</style>\n",
       "<table border=\"1\" class=\"dataframe\">\n",
       "  <thead>\n",
       "    <tr style=\"text-align: right;\">\n",
       "      <th></th>\n",
       "      <th>Actual</th>\n",
       "      <th>Predicted</th>\n",
       "    </tr>\n",
       "  </thead>\n",
       "  <tbody>\n",
       "    <tr>\n",
       "      <th>0</th>\n",
       "      <td>6.0</td>\n",
       "      <td>5.730241</td>\n",
       "    </tr>\n",
       "    <tr>\n",
       "      <th>1</th>\n",
       "      <td>9.0</td>\n",
       "      <td>10.792858</td>\n",
       "    </tr>\n",
       "    <tr>\n",
       "      <th>2</th>\n",
       "      <td>17.0</td>\n",
       "      <td>16.867999</td>\n",
       "    </tr>\n",
       "    <tr>\n",
       "      <th>3</th>\n",
       "      <td>20.0</td>\n",
       "      <td>20.918093</td>\n",
       "    </tr>\n",
       "    <tr>\n",
       "      <th>4</th>\n",
       "      <td>11.0</td>\n",
       "      <td>8.767811</td>\n",
       "    </tr>\n",
       "    <tr>\n",
       "      <th>5</th>\n",
       "      <td>10.0</td>\n",
       "      <td>12.817905</td>\n",
       "    </tr>\n",
       "    <tr>\n",
       "      <th>6</th>\n",
       "      <td>16.0</td>\n",
       "      <td>4.717718</td>\n",
       "    </tr>\n",
       "    <tr>\n",
       "      <th>7</th>\n",
       "      <td>12.0</td>\n",
       "      <td>13.830429</td>\n",
       "    </tr>\n",
       "    <tr>\n",
       "      <th>8</th>\n",
       "      <td>25.0</td>\n",
       "      <td>25.980710</td>\n",
       "    </tr>\n",
       "    <tr>\n",
       "      <th>9</th>\n",
       "      <td>4.0</td>\n",
       "      <td>6.742765</td>\n",
       "    </tr>\n",
       "    <tr>\n",
       "      <th>10</th>\n",
       "      <td>6.0</td>\n",
       "      <td>7.755288</td>\n",
       "    </tr>\n",
       "    <tr>\n",
       "      <th>11</th>\n",
       "      <td>20.0</td>\n",
       "      <td>7.755288</td>\n",
       "    </tr>\n",
       "    <tr>\n",
       "      <th>12</th>\n",
       "      <td>12.0</td>\n",
       "      <td>9.780335</td>\n",
       "    </tr>\n",
       "    <tr>\n",
       "      <th>13</th>\n",
       "      <td>6.0</td>\n",
       "      <td>6.742765</td>\n",
       "    </tr>\n",
       "    <tr>\n",
       "      <th>14</th>\n",
       "      <td>8.0</td>\n",
       "      <td>10.792858</td>\n",
       "    </tr>\n",
       "    <tr>\n",
       "      <th>15</th>\n",
       "      <td>14.0</td>\n",
       "      <td>14.842952</td>\n",
       "    </tr>\n",
       "    <tr>\n",
       "      <th>16</th>\n",
       "      <td>3.0</td>\n",
       "      <td>5.730241</td>\n",
       "    </tr>\n",
       "    <tr>\n",
       "      <th>17</th>\n",
       "      <td>11.0</td>\n",
       "      <td>10.792858</td>\n",
       "    </tr>\n",
       "    <tr>\n",
       "      <th>18</th>\n",
       "      <td>5.0</td>\n",
       "      <td>5.730241</td>\n",
       "    </tr>\n",
       "    <tr>\n",
       "      <th>19</th>\n",
       "      <td>10.0</td>\n",
       "      <td>8.767811</td>\n",
       "    </tr>\n",
       "    <tr>\n",
       "      <th>20</th>\n",
       "      <td>26.0</td>\n",
       "      <td>25.980710</td>\n",
       "    </tr>\n",
       "    <tr>\n",
       "      <th>21</th>\n",
       "      <td>12.0</td>\n",
       "      <td>14.842952</td>\n",
       "    </tr>\n",
       "    <tr>\n",
       "      <th>22</th>\n",
       "      <td>5.0</td>\n",
       "      <td>5.730241</td>\n",
       "    </tr>\n",
       "    <tr>\n",
       "      <th>23</th>\n",
       "      <td>11.0</td>\n",
       "      <td>9.780335</td>\n",
       "    </tr>\n",
       "    <tr>\n",
       "      <th>24</th>\n",
       "      <td>4.0</td>\n",
       "      <td>3.705194</td>\n",
       "    </tr>\n",
       "    <tr>\n",
       "      <th>25</th>\n",
       "      <td>15.0</td>\n",
       "      <td>11.805382</td>\n",
       "    </tr>\n",
       "    <tr>\n",
       "      <th>26</th>\n",
       "      <td>5.0</td>\n",
       "      <td>7.755288</td>\n",
       "    </tr>\n",
       "    <tr>\n",
       "      <th>27</th>\n",
       "      <td>4.0</td>\n",
       "      <td>6.742765</td>\n",
       "    </tr>\n",
       "    <tr>\n",
       "      <th>28</th>\n",
       "      <td>6.0</td>\n",
       "      <td>7.755288</td>\n",
       "    </tr>\n",
       "    <tr>\n",
       "      <th>29</th>\n",
       "      <td>27.0</td>\n",
       "      <td>15.855476</td>\n",
       "    </tr>\n",
       "  </tbody>\n",
       "</table>\n",
       "</div>"
      ],
      "text/plain": [
       "    Actual  Predicted\n",
       "0      6.0   5.730241\n",
       "1      9.0  10.792858\n",
       "2     17.0  16.867999\n",
       "3     20.0  20.918093\n",
       "4     11.0   8.767811\n",
       "5     10.0  12.817905\n",
       "6     16.0   4.717718\n",
       "7     12.0  13.830429\n",
       "8     25.0  25.980710\n",
       "9      4.0   6.742765\n",
       "10     6.0   7.755288\n",
       "11    20.0   7.755288\n",
       "12    12.0   9.780335\n",
       "13     6.0   6.742765\n",
       "14     8.0  10.792858\n",
       "15    14.0  14.842952\n",
       "16     3.0   5.730241\n",
       "17    11.0  10.792858\n",
       "18     5.0   5.730241\n",
       "19    10.0   8.767811\n",
       "20    26.0  25.980710\n",
       "21    12.0  14.842952\n",
       "22     5.0   5.730241\n",
       "23    11.0   9.780335\n",
       "24     4.0   3.705194\n",
       "25    15.0  11.805382\n",
       "26     5.0   7.755288\n",
       "27     4.0   6.742765\n",
       "28     6.0   7.755288\n",
       "29    27.0  15.855476"
      ]
     },
     "execution_count": 32,
     "metadata": {},
     "output_type": "execute_result"
    }
   ],
   "source": [
    "# Create a dataframe comparing the actual and predicted values of y.\n",
    "\n",
    "data = pd.DataFrame({'Actual': y_test.flatten(), 'Predicted': y_predicted.flatten()})\n",
    "data.head(30)"
   ]
  },
  {
   "cell_type": "markdown",
   "id": "5a48f145",
   "metadata": {},
   "source": [
    "#### Key observations:\n",
    "   1. As expected after reviewing the initial scatterplot, the model performed well at using carrier delivery times to predict total delivery times on Olist orders.\n",
    "   2. The slope indicates almost a 1:1 relationship between carrier delivery days and predicted total delivery days.\n",
    "   3. The MSE of close to 13 days is relatively small but still reflects some modest variability in how close the regression line passes through the observations.\n",
    "   4. The R2 score of 0.86 indicates that the model explains 86% of the variance in the data, which is a pretty high score. It suggests that carrier delivery performance has a strong influence in explaining total delivery performance. \n",
    "   5. The comparison of actual and predicted values is another way of showing how the model does a pretty good job with its estimates. From this sample, most of the predictions are within a day or two of the actual result. However, there are a few examples where the model doesn't do a good job and the difference is large (20 vs. 8 days, 27 vs. 16 days).\n",
    "   6. While a multiple regression model that takes into account other variables like seller actions could result in a better predictive model, the purpose of this analysis was to show that carrier delivery times are by themselves a very important determinant of total delivery times, and Olist could benefit just from focusing on taking actions to improve this metric to improve overall order delivery performance to customers. \n",
    "   7. My assessment is that there is low potential bias risk with the model. It does not rely on human decisions and the data set is very large with nearly 100k records. Outliers were not removed from the data set, only records that couldn't be accurate as they were illogical (e.g. carrier delivery time can't be greater than total delivery time)."
   ]
  },
  {
   "cell_type": "markdown",
   "id": "6f422fcc",
   "metadata": {},
   "source": [
    "## 5. Exporting data"
   ]
  },
  {
   "cell_type": "code",
   "execution_count": 33,
   "id": "194f7224",
   "metadata": {},
   "outputs": [],
   "source": [
    "# Export cleaned dataframe\n",
    "\n",
    "df.to_csv(os.path.join(path, '02 Data','Prepared Data', 'orders_merged_cleaned.csv'))"
   ]
  }
 ],
 "metadata": {
  "kernelspec": {
   "display_name": "Python 3 (ipykernel)",
   "language": "python",
   "name": "python3"
  },
  "language_info": {
   "codemirror_mode": {
    "name": "ipython",
    "version": 3
   },
   "file_extension": ".py",
   "mimetype": "text/x-python",
   "name": "python",
   "nbconvert_exporter": "python",
   "pygments_lexer": "ipython3",
   "version": "3.11.3"
  }
 },
 "nbformat": 4,
 "nbformat_minor": 5
}
